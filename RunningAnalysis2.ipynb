{
 "cells": [
  {
   "cell_type": "markdown",
   "id": "6a315943-3174-4d98-a94a-5b67b3030126",
   "metadata": {},
   "source": [
    "# Running Analysis — Track vs Coastal Path\n",
    "\n",
    "The goal is to answer this question:\n",
    "\n",
    "> **Why is my average pace consistently better on the track than on the coastal path, even at a similar heart rate?**\n",
    "\n",
    "\n",
    "## Surfaces Compared\n",
    "- **Track**: 200m track, not very flat surface  \n",
    "- **Coastal Road**: path along the seaside, not very flat, no slopes, not on sand  \n",
    "\n",
    "\n",
    "## Hypotheses\n",
    "\n",
    "1. **Heart rate vs pace** → For the same heart rate (effort), is pace faster on track than on coastal path?  \n",
    "2. **Session type comparison** → Does it depend on session type?  \n",
    "3. **Elevation gain** → Does terrain profile explain the difference?  \n",
    "4. **Time evolution** → Did progression/regression influence the results?  \n",
    "5. **Distance effect** → Do I run longer sessions on the coastal path?  \n",
    "\n",
    "\n",
    "## Dataset\n",
    "\n",
    "- **File**: `run2025.csv`  \n",
    "- **Features**:  \n",
    "  - Date  \n",
    "  - Distance  \n",
    "  - Type  \n",
    "  - Time  \n",
    "  - Location  \n",
    "  - Average pace  \n",
    "  - Average heart rate  \n",
    "  - Elevation gain  \n",
    "  - Average power  \n",
    "  - Max altitude  \n"
   ]
  },
  {
   "cell_type": "code",
   "execution_count": null,
   "id": "ec2a8867-29ea-4318-ad07-25dadc3f9482",
   "metadata": {},
   "outputs": [],
   "source": [
    "import pandas as pd\n",
    "import datetime as dt\n",
    "pd.plotting.register_matplotlib_converters()\n",
    "import matplotlib.pyplot as plt\n",
    "import seaborn as sns\n",
    "\n",
    "runLoua_path =  r\"C:\\Users\\HP\\Desktop\\ProjetExcel\\run2025.csv\"\n",
    "#Load the dataset\n",
    "runLoua_data = pd.read_csv(runLoua_path, sep=';', encoding='latin1')\n",
    "#preview of the 5 first rows\n",
    "runLoua_data.tail()"
   ]
  },
  {
   "cell_type": "markdown",
   "id": "6e2a10c6-8f50-4c2f-aa06-4a40ba42d3fa",
   "metadata": {},
   "source": [
    "In the dataset, we can see maximum altitude values from 10 to 30 meters for the coastal path, but that’s just the slope I run down at the beginning. After that, it’s a flat road, and I stop the run before going back up the slope."
   ]
  },
  {
   "cell_type": "code",
   "execution_count": null,
   "id": "fb90c806-c9a2-4a8e-89fd-31006de4cf4f",
   "metadata": {},
   "outputs": [],
   "source": [
    "#Data preparation\n",
    "\n",
    "#Date-> Datetime format\n",
    "runLoua_data[\"Date\"] = pd.to_datetime(runLoua_data[\"Date\"], format=\"%d-%b\")\n",
    "\n",
    "runLoua_data[\"Date\"] = runLoua_data[\"Date\"].apply(lambda d: d.replace(year=2025))\n",
    "\n",
    "#Time -> secondes\n",
    "\n",
    "def to_seconds(t):\n",
    "    \n",
    "    parts = t.split(':')\n",
    "    parts = [int(p) for p in parts]\n",
    "    \n",
    "    if len(parts)==3:\n",
    "        h, m, s = parts\n",
    "    elif len(parts)==2:\n",
    "        h, m, s = 0, parts[0], parts[1]\n",
    "    else:\n",
    "        return None\n",
    "    return h*3600 + m*60 + s\n",
    "\n",
    "runLoua_data[\"Time_sec\"] = runLoua_data[\"Time\"].apply(to_seconds)\n",
    "\n",
    "\n",
    "#Avg pace ex: 6'12 -> secondes per km\n",
    "\n",
    "def to_secondsperkm(pace): #6'18\n",
    "    parts = pace.split(\"'\") #['6','18']\n",
    "    \n",
    "    parts = [int(p) for p in parts] #[6, 18]\n",
    "    \n",
    "    m, s = parts\n",
    "    \n",
    "    return m*60 + s\n",
    "\n",
    "runLoua_data[\"Pace_sec/km\"] = runLoua_data[\"Avg Pace/km\"].apply(to_secondsperkm)\n",
    "\n",
    "runLoua_data.head()\n"
   ]
  },
  {
   "cell_type": "markdown",
   "id": "12b38b0a-5e6f-4900-896c-606860245e87",
   "metadata": {},
   "source": [
    "## 1. Pace vs Heart Rate by Location\n",
    "\n",
    "For the same heart rate (effort), pace is faster on track than on coastal path.\n"
   ]
  },
  {
   "cell_type": "code",
   "execution_count": null,
   "id": "1ad634f8-ffa7-485b-bd07-b3233a135e49",
   "metadata": {},
   "outputs": [],
   "source": [
    "# we draw an lmplot to visualize the relationship\n",
    "sns.lmplot(x=\"Avg HR\", y=\"Pace_sec/km\", hue=\"Location\", data=runLoua_data)\n",
    "plt.xlabel(\"Average heart rate\")\n",
    "plt.ylabel(\"Average Pace (sec/km)\")\n",
    "plt.title(\"Pace vs Heart Rate by Location\")\n",
    "plt.gca().invert_yaxis() \n",
    "plt.show()"
   ]
  },
  {
   "cell_type": "markdown",
   "id": "9598003a-50f6-460a-8550-e169c901bb3e",
   "metadata": {},
   "source": [
    "## 2. Average Pace by Session Type and Surface\n",
    "\n",
    "We now compare the pace depending on the session type (Intervals, Tempo, Threshold) and the surface (track/beach).\n"
   ]
  },
  {
   "cell_type": "code",
   "execution_count": null,
   "id": "82472d9b-314c-46a3-8240-54045bf4db61",
   "metadata": {},
   "outputs": [],
   "source": [
    "sns.boxplot(x=\"Type\", y=\"Pace_sec/km\", hue=\"Location\",  data=runLoua_data, palette=\"Set2\")\n",
    "plt.gca().invert_yaxis()\n",
    "plt.title(\"Boxplot of Pace by Session Type and Surface\")\n",
    "plt.xlabel(\"Session Type\")\n",
    "plt.ylabel(\"Average pace (sec/km)\")\n",
    "plt.show()"
   ]
  },
  {
   "cell_type": "markdown",
   "id": "dad5e4d9-a80b-465a-aca4-fc253ab560d4",
   "metadata": {},
   "source": [
    "Even when comparing the same type of workout, the surface is still impactful."
   ]
  },
  {
   "cell_type": "markdown",
   "id": "978b0c41-e183-47de-a47c-88a4d99bfb47",
   "metadata": {},
   "source": [
    "## 3. Elevation Gain vs Pace\n",
    "\n",
    "## Does elevation gain explain the pace difference between surfaces?\n",
    "\n",
    "To help you visualize, the track I run on is 200 m long and nearly flat: the elevation changes are barely a meter, so there are no real slopes. We still get a good total of positive elevation gain because I run many laps, and it adds up. On the Coastal Path, there’s only the first small downhill; the rest of the route is flat, with no uphill towards the end."
   ]
  },
  {
   "cell_type": "code",
   "execution_count": null,
   "id": "b758208c-212f-43bf-bd6d-cc1fb7546b64",
   "metadata": {},
   "outputs": [],
   "source": [
    "runLoua_data[\"pos_elev_gain/km\"] = runLoua_data[\"Elev gain\"] / runLoua_data[\"Distance\"].replace(0, pd.NA)\n",
    "\n",
    "sns.scatterplot(x=\"pos_elev_gain/km\", y=\"Pace_sec/km\", hue=\"Location\", data=runLoua_data)\n",
    "plt.gca().invert_yaxis()\n",
    "plt.xlabel(\"Positive elevation gain per km\")\n",
    "plt.ylabel(\"Average pace (sec/km)\")\n",
    "plt.title(\"Elevation gain vs Pace\")\n",
    "plt.show()"
   ]
  },
  {
   "cell_type": "markdown",
   "id": "f1ff052f-7a09-465f-970a-18a8e9c1c4a0",
   "metadata": {},
   "source": [
    "Positive elevation gain usually slows down a run. Here, the values might suggest real slopes, but knowing the track well, I know these are just tiny bumps that accumulate over many laps, along with minor variations caused by watch noise. Yet, even these micro-slopes don’t slow me down compared to the Coastal Path, which has much lower positive elevation gain. The difference in speed therefore cannot be explained by elevation: despite a much higher cumulative gain on the track, i am clearly faster."
   ]
  },
  {
   "cell_type": "markdown",
   "id": "550807fa-0aa6-4c1c-90a7-5ce1089aa9e0",
   "metadata": {},
   "source": [
    "## 4. Monthly Evolution of Average Pace by Surface\n",
    "\n",
    "Do I always run slower on the coastal path, or does it vary over time?"
   ]
  },
  {
   "cell_type": "code",
   "execution_count": null,
   "id": "c5f24167-4872-434d-96b3-ca4607ef8bd1",
   "metadata": {},
   "outputs": [],
   "source": [
    "runLoua_data[\"Month\"]=runLoua_data[\"Date\"].dt.strftime(\"%b\")\n",
    "\n",
    "sns.lineplot(x=\"Month\", y=\"Pace_sec/km\", hue=\"Location\", data=runLoua_data, marker=\"o\")\n",
    "plt.gca().invert_yaxis()\n",
    "plt.xlabel(\"Months\")\n",
    "plt.ylabel(\"Average pace (sec/km)\")\n",
    "plt.title(\"Monthly Evolution of Average Pace by Surface\")\n",
    "plt.show()"
   ]
  },
  {
   "cell_type": "markdown",
   "id": "956ea983-ab28-4705-94dc-58a26f415a5b",
   "metadata": {},
   "source": [
    "5. Is the distance covered the same?"
   ]
  },
  {
   "cell_type": "code",
   "execution_count": null,
   "id": "10497df4-8c44-4808-96f7-0ab7f051bdb8",
   "metadata": {},
   "outputs": [],
   "source": [
    "plt.figure(figsize=(6,5))\n",
    "sns.boxplot(x=\"Location\", y=\"Distance\", data=runLoua_data)\n",
    "plt.title(\"Distance distribution by location\")\n",
    "plt.show()"
   ]
  },
  {
   "cell_type": "markdown",
   "id": "0fd18890-6f06-4509-b9e3-d41c9fb30720",
   "metadata": {},
   "source": [
    "The distance covered on the track is generally higher, which in itself does not explain why I run faster on the track."
   ]
  },
  {
   "cell_type": "markdown",
   "id": "39a79c24-c4e0-442c-9fd6-75367988cd1f",
   "metadata": {},
   "source": [
    "## Conclusion\n",
    "\n",
    "Main takeaways:\n",
    "-  For the same heart rate, pace is clearly faster on track than on beach.\n",
    "-  The difference remains for each session type.\n",
    "-  Elevation gain cannot explain the slower beach pace.\n",
    "-  The surface impact is consistent across months.\n",
    "-  The distance does not explain the pace difference.\n",
    "## ANSWER HERE\n",
    "I eventually realized that all these data points, which usually have a big impact on how a run unfolds, still can’t explain this big difference in pace that really matters to runners. It’s not the elevation, the distance, the heart effort, or even the type of workout. I thought about other factors, like temperature, but the difference remains during the same season. Then I figured it might be the course itself: on the track the route is more regular, without obstacles, the surface is uniform, and I don’t waste energy trying to stabilize my footing. In the end, these factors convinced me the most, because I can actually feel it when I run: going around in loops gives me confidence and puts me at ease."
   ]
  }
 ],
 "metadata": {
  "kernelspec": {
   "display_name": "Python 3 (ipykernel)",
   "language": "python",
   "name": "python3"
  },
  "language_info": {
   "codemirror_mode": {
    "name": "ipython",
    "version": 3
   },
   "file_extension": ".py",
   "mimetype": "text/x-python",
   "name": "python",
   "nbconvert_exporter": "python",
   "pygments_lexer": "ipython3",
   "version": "3.10.0"
  }
 },
 "nbformat": 4,
 "nbformat_minor": 5
}
